{
 "cells": [
  {
   "cell_type": "code",
   "execution_count": 1,
   "id": "19535784",
   "metadata": {},
   "outputs": [
    {
     "name": "stdout",
     "output_type": "stream",
     "text": [
      "465.5\n"
     ]
    }
   ],
   "source": [
    "a = [1, 2, 3, 4, 5, 6]\n",
    "b = [1, 2, 3, 4, 5, 6]\n",
    "res = 0\n",
    "for i in a:\n",
    "    for j in b:\n",
    "        res += (i + j)**3\n",
    "print(res / 36)"
   ]
  },
  {
   "cell_type": "code",
   "execution_count": 2,
   "id": "74a8b3ec",
   "metadata": {},
   "outputs": [
    {
     "ename": "SyntaxError",
     "evalue": "incomplete input (4052379005.py, line 7)",
     "output_type": "error",
     "traceback": [
      "\u001b[1;36m  Cell \u001b[1;32mIn[2], line 7\u001b[1;36m\u001b[0m\n\u001b[1;33m    for f in c:\u001b[0m\n\u001b[1;37m               ^\u001b[0m\n\u001b[1;31mSyntaxError\u001b[0m\u001b[1;31m:\u001b[0m incomplete input\n"
     ]
    }
   ],
   "source": [
    "a = [1, 1, 1, 1, 1, 1]\n",
    "b = [1, 2, 3, 4, 5, 6]\n",
    "c = [3, 4, 3, 4, 3, 4]\n",
    "d = [9, 9, 9, 9, 9, 9]\n",
    "res = 0\n",
    "for i in a:\n",
    "    for j in b:\n",
    "        for f in c:\n",
    "            for h in d:\n",
    "                res += ()"
   ]
  },
  {
   "cell_type": "code",
   "execution_count": null,
   "id": "33d60458",
   "metadata": {},
   "outputs": [],
   "source": []
  }
 ],
 "metadata": {
  "kernelspec": {
   "display_name": "Python 3 (ipykernel)",
   "language": "python",
   "name": "python3"
  },
  "language_info": {
   "codemirror_mode": {
    "name": "ipython",
    "version": 3
   },
   "file_extension": ".py",
   "mimetype": "text/x-python",
   "name": "python",
   "nbconvert_exporter": "python",
   "pygments_lexer": "ipython3",
   "version": "3.10.9"
  }
 },
 "nbformat": 4,
 "nbformat_minor": 5
}
